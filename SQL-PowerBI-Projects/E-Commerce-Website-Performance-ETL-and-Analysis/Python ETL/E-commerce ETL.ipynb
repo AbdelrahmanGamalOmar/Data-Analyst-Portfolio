{
 "cells": [
  {
   "cell_type": "code",
   "execution_count": 19,
   "metadata": {},
   "outputs": [],
   "source": [
    "import pandas as pd\n",
    "from sqlalchemy import create_engine"
   ]
  },
  {
   "cell_type": "code",
   "execution_count": 20,
   "metadata": {},
   "outputs": [],
   "source": [
    "db_host=\"localhost\",\n",
    "db_user=\"root\",       \n",
    "db_password=\"password\",\n",
    "db_name=\"e-commerce\"\n",
    "\n",
    "\n",
    "engine = create_engine(f\"mysql+mysqlconnector://{db_user}:{db_password}@{db_host}/{db_name}\")"
   ]
  },
  {
   "cell_type": "code",
   "execution_count": 21,
   "metadata": {},
   "outputs": [],
   "source": [
    "def read_csv_file(filepath):\n",
    "    try:\n",
    "        return pd.read_csv(filepath)\n",
    "    except Exception as e:\n",
    "        print(f\"Error reading {filepath}: {e}\")\n",
    "        return None\n",
    "\n",
    "\n",
    "def read_json_file(filepath):\n",
    "    try:\n",
    "        return pd.read_json(filepath)\n",
    "    except Exception as e:\n",
    "        print(f\"Error reading {filepath}: {e}\")\n",
    "        return None"
   ]
  },
  {
   "cell_type": "code",
   "execution_count": 22,
   "metadata": {},
   "outputs": [],
   "source": [
    "def load_to_db(df, table_name, engine):\n",
    "    try:\n",
    "        df.to_sql(name=table_name, con=engine, if_exists=\"replace\", index=False, chunksize=1000)\n",
    "        print(f\"Data loaded into {table_name} successfully!\")\n",
    "    except Exception as e:\n",
    "        print(f\"Error loading {table_name}: {e}\")"
   ]
  },
  {
   "cell_type": "code",
   "execution_count": 23,
   "metadata": {},
   "outputs": [],
   "source": [
    "def main():\n",
    "    csv_files = [\"orders.csv\", \"order_items.csv\", \"website_pageviews.csv\", \"website_sessions.csv\"]\n",
    "    json_files = [\"order_item_refunds.json\", \"products.json\"]\n",
    "    \n",
    "    # Process CSV files\n",
    "    for file in csv_files:\n",
    "        df = read_csv_file(file)\n",
    "        if df is not None:\n",
    "            table_name = file.split('.')[0]  \n",
    "            load_to_db(df, table_name, engine)\n",
    "\n",
    "    # Process JSON files\n",
    "    for file in json_files:\n",
    "        df = read_json_file(file)\n",
    "        if df is not None:\n",
    "            table_name = file.split('.')[0]\n",
    "            load_to_db(df, table_name, engine)"
   ]
  },
  {
   "cell_type": "code",
   "execution_count": null,
   "metadata": {},
   "outputs": [],
   "source": [
    "if __name__ == \"__main__\":\n",
    "    main()"
   ]
  }
 ],
 "metadata": {
  "kernelspec": {
   "display_name": "Python 3",
   "language": "python",
   "name": "python3"
  },
  "language_info": {
   "codemirror_mode": {
    "name": "ipython",
    "version": 3
   },
   "file_extension": ".py",
   "mimetype": "text/x-python",
   "name": "python",
   "nbconvert_exporter": "python",
   "pygments_lexer": "ipython3",
   "version": "3.11.9"
  }
 },
 "nbformat": 4,
 "nbformat_minor": 2
}
